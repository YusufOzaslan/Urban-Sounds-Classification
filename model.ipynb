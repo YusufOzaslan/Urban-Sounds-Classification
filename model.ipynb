{
  "nbformat": 4,
  "nbformat_minor": 0,
  "metadata": {
    "colab": {
      "provenance": [],
      "collapsed_sections": []
    },
    "kernelspec": {
      "name": "python3",
      "display_name": "Python 3"
    },
    "language_info": {
      "name": "python"
    },
    "accelerator": "GPU"
  },
  "cells": [
    {
      "cell_type": "code",
      "execution_count": 17,
      "metadata": {
        "id": "ikyKpPCwA__u"
      },
      "outputs": [],
      "source": [
        "# Import TensorFlow\n",
        "import tensorflow as tf\n",
        "\n",
        "# Import Numpy, Pandas and Matplotlib\n",
        "import matplotlib.pyplot as plt\n",
        "import pandas as pd\n",
        "import numpy as np"
      ]
    },
    {
      "cell_type": "code",
      "source": [
        "from google.colab import drive\n",
        "drive.mount('/content/drive')"
      ],
      "metadata": {
        "colab": {
          "base_uri": "https://localhost:8080/"
        },
        "id": "qS7vYE5cUZRE",
        "outputId": "3430f096-884d-442b-944e-90d2106a7be9"
      },
      "execution_count": 18,
      "outputs": [
        {
          "output_type": "stream",
          "name": "stdout",
          "text": [
            "Drive already mounted at /content/drive; to attempt to forcibly remount, call drive.mount(\"/content/drive\", force_remount=True).\n"
          ]
        }
      ]
    },
    {
      "cell_type": "code",
      "source": [
        "# Include processed data\n",
        "X_train = np.array(pd.read_csv('/content/drive/MyDrive/P_D/train_x.csv')) \n",
        "y_train = np.array(pd.read_csv('/content/drive/MyDrive/P_D/train_y.csv')) \n",
        "X_val = np.array(pd.read_csv('/content/drive/MyDrive/P_D/val_x.csv')) \n",
        "y_val = np.array(pd.read_csv('/content/drive/MyDrive/P_D/val_y.csv')) \n",
        "X_test = np.array(pd.read_csv('/content/drive/MyDrive/P_D/test_x.csv')) \n",
        "y_test = np.array(pd.read_csv('/content/drive/MyDrive/P_D/test_y.csv')) "
      ],
      "metadata": {
        "id": "4PfVWs8eUbt-"
      },
      "execution_count": 19,
      "outputs": []
    },
    {
      "cell_type": "code",
      "source": [
        "# Reshaping from 2D \n",
        "X_train = X_train.reshape(X_train.shape[0], 40,40,3)\n",
        "X_test = X_test.reshape(X_test.shape[0], 40,40,3)\n",
        "X_val = X_val.reshape(X_val.shape[0], 40,40,3)"
      ],
      "metadata": {
        "id": "gU5UqSlUipLn"
      },
      "execution_count": 20,
      "outputs": []
    },
    {
      "cell_type": "code",
      "source": [
        "# Create a model object\n",
        "model = tf.keras.Sequential()   "
      ],
      "metadata": {
        "id": "OoJtOu00KMxy"
      },
      "execution_count": 21,
      "outputs": []
    },
    {
      "cell_type": "code",
      "source": [
        "# Add a convolution and max pooling layer\n",
        "model.add(tf.keras.layers.Conv2D(80, kernel_size=(3,3), strides=(1,1), padding=\"same\", activation=\"relu\", input_shape=(40, 40, 3)))\n",
        "model.add(tf.keras.layers.MaxPooling2D((2,2)))"
      ],
      "metadata": {
        "id": "0GtdppKYLu-9"
      },
      "execution_count": 22,
      "outputs": []
    },
    {
      "cell_type": "code",
      "source": [
        "# Add more convolution and max pooling layers\n",
        "model.add(tf.keras.layers.Conv2D(80, kernel_size=(3,3), strides=(1,1), padding=\"same\", activation=\"relu\", input_shape=(40, 40, 3)))\n",
        "model.add(tf.keras.layers.MaxPooling2D((2,2)))\n",
        "model.add(tf.keras.layers.Conv2D(80, kernel_size=(3,3), strides=(1,1), padding=\"same\", activation=\"relu\", input_shape=(40, 40, 3)))  "
      ],
      "metadata": {
        "id": "_BCzDbAULwuj"
      },
      "execution_count": 23,
      "outputs": []
    },
    {
      "cell_type": "code",
      "source": [
        "# Flatten the convolution layer\n",
        "model.add(tf.keras.layers.Flatten()) "
      ],
      "metadata": {
        "id": "bK3eXJjFLy50"
      },
      "execution_count": 24,
      "outputs": []
    },
    {
      "cell_type": "code",
      "source": [
        "# Add the dense layer and dropout layer\n",
        "model.add(tf.keras.layers.Dense(80, activation = \"relu\"))\n",
        "model.add(tf.keras.layers.Dropout(0.5))\n",
        "# Add the dense layer and dropout layer\n",
        "model.add(tf.keras.layers.Dense(80, activation = \"relu\"))\n",
        "model.add(tf.keras.layers.Dropout(0.5))\n",
        "# Add the dense layer and dropout layer\n",
        "model.add(tf.keras.layers.Dense(80, activation = \"relu\"))\n",
        "model.add(tf.keras.layers.Dropout(0.5))\n",
        "\n",
        "# Add the output layer\n",
        "model.add(tf.keras.layers.Dense(10,activation=\"softmax\"))\n",
        "    \n",
        "# Compile the model\n",
        "model.compile(optimizer=\"adam\", loss=\"sparse_categorical_crossentropy\", metrics=[\"accuracy\"])"
      ],
      "metadata": {
        "id": "SgbvU_VhL0lx"
      },
      "execution_count": 25,
      "outputs": []
    },
    {
      "cell_type": "code",
      "source": [
        "# Train the model for 50 epochs with batch size of 200\n",
        "results = model.fit(X_train, y_train, batch_size = 200, epochs=50, validation_data=(X_val, y_val))      "
      ],
      "metadata": {
        "id": "mq2dTLjNL2lW",
        "colab": {
          "base_uri": "https://localhost:8080/"
        },
        "outputId": "230069e5-9aad-45fe-e71c-ebe804185ed8"
      },
      "execution_count": 26,
      "outputs": [
        {
          "output_type": "stream",
          "name": "stdout",
          "text": [
            "Epoch 1/50\n",
            "35/35 [==============================] - 2s 36ms/step - loss: 2.2233 - accuracy: 0.1403 - val_loss: 2.1355 - val_accuracy: 0.2592\n",
            "Epoch 2/50\n",
            "35/35 [==============================] - 1s 22ms/step - loss: 2.1025 - accuracy: 0.2055 - val_loss: 1.8870 - val_accuracy: 0.3062\n",
            "Epoch 3/50\n",
            "35/35 [==============================] - 1s 22ms/step - loss: 1.9290 - accuracy: 0.2861 - val_loss: 1.7322 - val_accuracy: 0.4404\n",
            "Epoch 4/50\n",
            "35/35 [==============================] - 1s 22ms/step - loss: 1.7589 - accuracy: 0.3601 - val_loss: 1.5449 - val_accuracy: 0.4771\n",
            "Epoch 5/50\n",
            "35/35 [==============================] - 1s 22ms/step - loss: 1.6314 - accuracy: 0.4188 - val_loss: 1.3495 - val_accuracy: 0.5333\n",
            "Epoch 6/50\n",
            "35/35 [==============================] - 1s 22ms/step - loss: 1.5272 - accuracy: 0.4533 - val_loss: 1.2325 - val_accuracy: 0.5780\n",
            "Epoch 7/50\n",
            "35/35 [==============================] - 1s 23ms/step - loss: 1.4208 - accuracy: 0.4822 - val_loss: 1.2076 - val_accuracy: 0.5940\n",
            "Epoch 8/50\n",
            "35/35 [==============================] - 1s 23ms/step - loss: 1.3643 - accuracy: 0.5021 - val_loss: 1.1490 - val_accuracy: 0.6055\n",
            "Epoch 9/50\n",
            "35/35 [==============================] - 1s 22ms/step - loss: 1.2801 - accuracy: 0.5318 - val_loss: 1.0331 - val_accuracy: 0.6560\n",
            "Epoch 10/50\n",
            "35/35 [==============================] - 1s 22ms/step - loss: 1.1834 - accuracy: 0.5616 - val_loss: 0.9690 - val_accuracy: 0.6537\n",
            "Epoch 11/50\n",
            "35/35 [==============================] - 1s 23ms/step - loss: 1.1120 - accuracy: 0.5862 - val_loss: 0.8975 - val_accuracy: 0.6984\n",
            "Epoch 12/50\n",
            "35/35 [==============================] - 1s 23ms/step - loss: 1.0816 - accuracy: 0.6097 - val_loss: 0.8673 - val_accuracy: 0.7271\n",
            "Epoch 13/50\n",
            "35/35 [==============================] - 1s 23ms/step - loss: 1.0302 - accuracy: 0.6304 - val_loss: 0.8473 - val_accuracy: 0.7466\n",
            "Epoch 14/50\n",
            "35/35 [==============================] - 1s 22ms/step - loss: 0.9500 - accuracy: 0.6644 - val_loss: 0.8073 - val_accuracy: 0.7259\n",
            "Epoch 15/50\n",
            "35/35 [==============================] - 1s 22ms/step - loss: 0.9435 - accuracy: 0.6691 - val_loss: 0.7650 - val_accuracy: 0.7775\n",
            "Epoch 16/50\n",
            "35/35 [==============================] - 1s 23ms/step - loss: 0.8707 - accuracy: 0.6940 - val_loss: 0.7078 - val_accuracy: 0.7741\n",
            "Epoch 17/50\n",
            "35/35 [==============================] - 1s 22ms/step - loss: 0.8404 - accuracy: 0.7015 - val_loss: 0.6740 - val_accuracy: 0.7913\n",
            "Epoch 18/50\n",
            "35/35 [==============================] - 1s 23ms/step - loss: 0.7775 - accuracy: 0.7294 - val_loss: 0.6687 - val_accuracy: 0.7775\n",
            "Epoch 19/50\n",
            "35/35 [==============================] - 1s 22ms/step - loss: 0.7654 - accuracy: 0.7315 - val_loss: 0.6111 - val_accuracy: 0.7993\n",
            "Epoch 20/50\n",
            "35/35 [==============================] - 1s 22ms/step - loss: 0.7366 - accuracy: 0.7428 - val_loss: 0.5867 - val_accuracy: 0.8245\n",
            "Epoch 21/50\n",
            "35/35 [==============================] - 1s 22ms/step - loss: 0.6696 - accuracy: 0.7665 - val_loss: 0.6111 - val_accuracy: 0.8119\n",
            "Epoch 22/50\n",
            "35/35 [==============================] - 1s 23ms/step - loss: 0.6742 - accuracy: 0.7735 - val_loss: 0.5970 - val_accuracy: 0.8257\n",
            "Epoch 23/50\n",
            "35/35 [==============================] - 1s 23ms/step - loss: 0.6462 - accuracy: 0.7765 - val_loss: 0.5679 - val_accuracy: 0.8314\n",
            "Epoch 24/50\n",
            "35/35 [==============================] - 1s 22ms/step - loss: 0.6313 - accuracy: 0.7845 - val_loss: 0.5744 - val_accuracy: 0.8326\n",
            "Epoch 25/50\n",
            "35/35 [==============================] - 1s 22ms/step - loss: 0.5924 - accuracy: 0.7944 - val_loss: 0.5290 - val_accuracy: 0.8521\n",
            "Epoch 26/50\n",
            "35/35 [==============================] - 1s 23ms/step - loss: 0.5715 - accuracy: 0.8050 - val_loss: 0.5127 - val_accuracy: 0.8452\n",
            "Epoch 27/50\n",
            "35/35 [==============================] - 1s 22ms/step - loss: 0.5198 - accuracy: 0.8240 - val_loss: 0.5364 - val_accuracy: 0.8555\n",
            "Epoch 28/50\n",
            "35/35 [==============================] - 1s 22ms/step - loss: 0.5363 - accuracy: 0.8192 - val_loss: 0.5297 - val_accuracy: 0.8349\n",
            "Epoch 29/50\n",
            "35/35 [==============================] - 1s 22ms/step - loss: 0.5271 - accuracy: 0.8306 - val_loss: 0.5924 - val_accuracy: 0.8326\n",
            "Epoch 30/50\n",
            "35/35 [==============================] - 1s 24ms/step - loss: 0.5110 - accuracy: 0.8322 - val_loss: 0.6343 - val_accuracy: 0.8383\n",
            "Epoch 31/50\n",
            "35/35 [==============================] - 1s 22ms/step - loss: 0.5057 - accuracy: 0.8342 - val_loss: 0.5675 - val_accuracy: 0.8372\n",
            "Epoch 32/50\n",
            "35/35 [==============================] - 1s 23ms/step - loss: 0.4876 - accuracy: 0.8409 - val_loss: 0.5396 - val_accuracy: 0.8417\n",
            "Epoch 33/50\n",
            "35/35 [==============================] - 1s 23ms/step - loss: 0.4750 - accuracy: 0.8451 - val_loss: 0.4973 - val_accuracy: 0.8544\n",
            "Epoch 34/50\n",
            "35/35 [==============================] - 1s 22ms/step - loss: 0.4614 - accuracy: 0.8477 - val_loss: 0.5246 - val_accuracy: 0.8601\n",
            "Epoch 35/50\n",
            "35/35 [==============================] - 1s 23ms/step - loss: 0.4361 - accuracy: 0.8598 - val_loss: 0.5407 - val_accuracy: 0.8509\n",
            "Epoch 36/50\n",
            "35/35 [==============================] - 1s 23ms/step - loss: 0.4509 - accuracy: 0.8529 - val_loss: 0.4780 - val_accuracy: 0.8716\n",
            "Epoch 37/50\n",
            "35/35 [==============================] - 1s 23ms/step - loss: 0.4163 - accuracy: 0.8624 - val_loss: 0.5216 - val_accuracy: 0.8670\n",
            "Epoch 38/50\n",
            "35/35 [==============================] - 1s 23ms/step - loss: 0.4140 - accuracy: 0.8647 - val_loss: 0.4957 - val_accuracy: 0.8624\n",
            "Epoch 39/50\n",
            "35/35 [==============================] - 1s 23ms/step - loss: 0.4093 - accuracy: 0.8670 - val_loss: 0.4928 - val_accuracy: 0.8819\n",
            "Epoch 40/50\n",
            "35/35 [==============================] - 1s 23ms/step - loss: 0.3886 - accuracy: 0.8717 - val_loss: 0.6074 - val_accuracy: 0.8670\n",
            "Epoch 41/50\n",
            "35/35 [==============================] - 1s 23ms/step - loss: 0.3913 - accuracy: 0.8782 - val_loss: 0.5237 - val_accuracy: 0.8578\n",
            "Epoch 42/50\n",
            "35/35 [==============================] - 1s 23ms/step - loss: 0.3856 - accuracy: 0.8777 - val_loss: 0.4857 - val_accuracy: 0.8704\n",
            "Epoch 43/50\n",
            "35/35 [==============================] - 1s 23ms/step - loss: 0.3838 - accuracy: 0.8744 - val_loss: 0.5395 - val_accuracy: 0.8796\n",
            "Epoch 44/50\n",
            "35/35 [==============================] - 1s 23ms/step - loss: 0.3744 - accuracy: 0.8793 - val_loss: 0.5323 - val_accuracy: 0.8681\n",
            "Epoch 45/50\n",
            "35/35 [==============================] - 1s 23ms/step - loss: 0.3388 - accuracy: 0.8909 - val_loss: 0.5333 - val_accuracy: 0.8773\n",
            "Epoch 46/50\n",
            "35/35 [==============================] - 1s 23ms/step - loss: 0.3617 - accuracy: 0.8855 - val_loss: 0.5177 - val_accuracy: 0.8612\n",
            "Epoch 47/50\n",
            "35/35 [==============================] - 1s 23ms/step - loss: 0.3401 - accuracy: 0.8908 - val_loss: 0.6044 - val_accuracy: 0.8635\n",
            "Epoch 48/50\n",
            "35/35 [==============================] - 1s 22ms/step - loss: 0.3597 - accuracy: 0.8865 - val_loss: 0.5540 - val_accuracy: 0.8704\n",
            "Epoch 49/50\n",
            "35/35 [==============================] - 1s 23ms/step - loss: 0.3282 - accuracy: 0.8965 - val_loss: 0.5925 - val_accuracy: 0.8589\n",
            "Epoch 50/50\n",
            "35/35 [==============================] - 1s 23ms/step - loss: 0.3298 - accuracy: 0.9005 - val_loss: 0.6303 - val_accuracy: 0.8727\n"
          ]
        }
      ]
    },
    {
      "cell_type": "code",
      "source": [
        "# Plot the the training loss\n",
        "plt.plot(results.history[\"loss\"], label = \"loss\")\n",
        "# Plot the the validation loss\n",
        "plt.plot(results.history[\"val_loss\"], label = \"val_loss\")\n",
        "# Name the x and y axises\n",
        "plt.ylabel(\"Loss\")\n",
        "plt.xlabel(\"Epoch\")\n",
        "# Put legend table\n",
        "plt.legend(\"Loss\")\n",
        "# Show the plot\n",
        "plt.show()\n"
      ],
      "metadata": {
        "id": "ECwmV24dL37O",
        "colab": {
          "base_uri": "https://localhost:8080/",
          "height": 279
        },
        "outputId": "9cb57751-c449-4514-81bc-3e338bb0fb67"
      },
      "execution_count": 27,
      "outputs": [
        {
          "output_type": "display_data",
          "data": {
            "text/plain": [
              "<Figure size 432x288 with 1 Axes>"
            ],
            "image/png": "[encoded data removed]"
          },
          "metadata": {
            "needs_background": "light"
          }
        }
      ]
    },
    {
      "cell_type": "code",
      "source": [
        "# Plot the the training accuracy\n",
        "plt.plot(results.history[\"accuracy\"], label = \"accuracy\")\n",
        "\n",
        "# Plot the the validation accuracy\n",
        "plt.plot(results.history[\"val_accuracy\"], label = \"val_accuracy\")\n",
        "\n",
        "# Name the x and y axises\n",
        "plt.ylabel(\"Loss\")\n",
        "plt.xlabel(\"Epoch\")\n",
        "\n",
        "# Put legend table\n",
        "plt.legend(\"Loss\")\n",
        "\n",
        "# Show the plot\n",
        "plt.show()"
      ],
      "metadata": {
        "id": "VwolyJBVL5pF",
        "colab": {
          "base_uri": "https://localhost:8080/",
          "height": 279
        },
        "outputId": "6314125c-6906-46ef-f706-2e98bcf8e814"
      },
      "execution_count": 28,
      "outputs": [
        {
          "output_type": "display_data",
          "data": {
            "text/plain": [
              "<Figure size 432x288 with 1 Axes>"
            ],
            "image/png": "[encoded data removed]"
          },
          "metadata": {
            "needs_background": "light"
          }
        }
      ]
    },
    {
      "cell_type": "code",
      "source": [
        "# Evaluate the performance\n",
        "model.evaluate(X_test, y_test)"
      ],
      "metadata": {
        "id": "Bg-6c0ptL7JD",
        "colab": {
          "base_uri": "https://localhost:8080/"
        },
        "outputId": "03a0ffbe-59ab-4421-da08-7669bf3a803c"
      },
      "execution_count": 29,
      "outputs": [
        {
          "output_type": "stream",
          "name": "stdout",
          "text": [
            "28/28 [==============================] - 0s 3ms/step - loss: 0.6282 - accuracy: 0.8763\n"
          ]
        },
        {
          "output_type": "execute_result",
          "data": {
            "text/plain": [
              "[0.6282411813735962, 0.876288652420044]"
            ]
          },
          "metadata": {},
          "execution_count": 29
        }
      ]
    },
    {
      "cell_type": "code",
      "source": [
        "# Make prediction on the reshaped sample\n",
        "prediction_result = model.predict(X_test[777].reshape(1,40,40,3))\n",
        "\n",
        "# Print the prediction result\n",
        "prediction_result"
      ],
      "metadata": {
        "id": "Xath89ttL9R2",
        "colab": {
          "base_uri": "https://localhost:8080/"
        },
        "outputId": "c9d89a3d-8356-48c5-bca7-7d9b89f777b6"
      },
      "execution_count": 30,
      "outputs": [
        {
          "output_type": "execute_result",
          "data": {
            "text/plain": [
              "array([[9.9827446e-07, 2.8275347e-11, 1.4030229e-09, 3.7075133e-05,\n",
              "        9.6513712e-01, 2.8310697e-07, 6.7486616e-07, 3.4822274e-02,\n",
              "        1.6318038e-06, 7.0343381e-10]], dtype=float32)"
            ]
          },
          "metadata": {},
          "execution_count": 30
        }
      ]
    },
    {
      "cell_type": "code",
      "source": [
        "# Find the predicted class\n",
        "predicted_class = prediction_result.argmax()\n",
        "# Find the prediction probability\n",
        "predicted_probability = prediction_result.max()"
      ],
      "metadata": {
        "id": "moIFi7nSL-ln"
      },
      "execution_count": 31,
      "outputs": []
    },
    {
      "cell_type": "code",
      "source": [
        "# Print the results\n",
        "print(f\"This image belongs to class {predicted_class} with {predicted_probability} probability %\")"
      ],
      "metadata": {
        "id": "WabKTjEaL_9p",
        "colab": {
          "base_uri": "https://localhost:8080/"
        },
        "outputId": "db582ad2-a823-4304-d65b-7f5bc6349b5b"
      },
      "execution_count": 32,
      "outputs": [
        {
          "output_type": "stream",
          "name": "stdout",
          "text": [
            "This image belongs to class 4 with 0.9651371240615845 probability %\n"
          ]
        }
      ]
    }
  ]
}