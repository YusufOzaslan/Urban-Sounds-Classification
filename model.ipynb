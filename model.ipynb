{
  "nbformat": 4,
  "nbformat_minor": 0,
  "metadata": {
    "colab": {
      "provenance": [],
      "collapsed_sections": []
    },
    "kernelspec": {
      "name": "python3",
      "display_name": "Python 3"
    },
    "language_info": {
      "name": "python"
    }
  },
  "cells": [
    {
      "cell_type": "code",
      "execution_count": 1,
      "metadata": {
        "id": "ikyKpPCwA__u"
      },
      "outputs": [],
      "source": [
        "# Import TensorFlow\n",
        "import tensorflow as tf\n",
        "\n",
        "# Import Numpy, Pandas and Matplotlib\n",
        "import matplotlib.pyplot as plt\n",
        "import pandas as pd\n",
        "import numpy as np"
      ]
    },
    {
      "cell_type": "code",
      "source": [
        "from google.colab import drive\n",
        "drive.mount('/content/drive')"
      ],
      "metadata": {
        "colab": {
          "base_uri": "https://localhost:8080/"
        },
        "id": "qS7vYE5cUZRE",
        "outputId": "9c5fdb80-40a5-466a-804e-c501585542d6"
      },
      "execution_count": 2,
      "outputs": [
        {
          "output_type": "stream",
          "name": "stdout",
          "text": [
            "Drive already mounted at /content/drive; to attempt to forcibly remount, call drive.mount(\"/content/drive\", force_remount=True).\n"
          ]
        }
      ]
    },
    {
      "cell_type": "markdown",
      "source": [
        "**Extract Processed Data**"
      ],
      "metadata": {
        "id": "x5-BgzreB8i1"
      }
    },
    {
      "cell_type": "code",
      "source": [
        "# Include processed data\n",
        "X_train = np.array(pd.read_csv('/content/drive/MyDrive/P_D/train_x.csv')) \n",
        "y_train = np.array(pd.read_csv('/content/drive/MyDrive/P_D/train_y.csv')) \n",
        "X_val = np.array(pd.read_csv('/content/drive/MyDrive/P_D/val_x.csv')) \n",
        "y_val = np.array(pd.read_csv('/content/drive/MyDrive/P_D/val_y.csv')) \n",
        "X_test = np.array(pd.read_csv('/content/drive/MyDrive/P_D/test_x.csv')) \n",
        "y_test = np.array(pd.read_csv('/content/drive/MyDrive/P_D/test_y.csv')) "
      ],
      "metadata": {
        "id": "4PfVWs8eUbt-"
      },
      "execution_count": 3,
      "outputs": []
    },
    {
      "cell_type": "code",
      "source": [
        "# Reshaping from 2D \n",
        "X_train = X_train.reshape(X_train.shape[0], 40,40,3)\n",
        "X_test = X_test.reshape(X_test.shape[0], 40,40,3)\n",
        "X_val = X_val.reshape(X_val.shape[0], 40,40,3)"
      ],
      "metadata": {
        "id": "gU5UqSlUipLn"
      },
      "execution_count": 4,
      "outputs": []
    },
    {
      "cell_type": "code",
      "source": [
        "# Create a model object\n",
        "model = tf.keras.Sequential()   "
      ],
      "metadata": {
        "id": "OoJtOu00KMxy"
      },
      "execution_count": 5,
      "outputs": []
    },
    {
      "cell_type": "code",
      "source": [
        "# Add a convolution and max pooling layer\n",
        "model.add(tf.keras.layers.Conv2D(80, kernel_size=(3,3), strides=(1,1), padding=\"same\", activation=\"relu\", input_shape=(40, 40, 3)))\n",
        "model.add(tf.keras.layers.MaxPooling2D((2,2)))"
      ],
      "metadata": {
        "id": "0GtdppKYLu-9"
      },
      "execution_count": 6,
      "outputs": []
    },
    {
      "cell_type": "code",
      "source": [
        "# Add more convolution and max pooling layers\n",
        "model.add(tf.keras.layers.Conv2D(80, kernel_size=(3,3), strides=(1,1), padding=\"same\", activation=\"relu\", input_shape=(40, 40, 3)))\n",
        "model.add(tf.keras.layers.MaxPooling2D((2,2)))\n",
        "model.add(tf.keras.layers.Conv2D(80, kernel_size=(3,3), strides=(1,1), padding=\"same\", activation=\"relu\", input_shape=(40, 40, 3)))  \n",
        " \n"
      ],
      "metadata": {
        "id": "_BCzDbAULwuj"
      },
      "execution_count": 7,
      "outputs": []
    },
    {
      "cell_type": "code",
      "source": [
        "# Flatten the convolution layer\n",
        "model.add(tf.keras.layers.Flatten()) "
      ],
      "metadata": {
        "id": "bK3eXJjFLy50"
      },
      "execution_count": 8,
      "outputs": []
    },
    {
      "cell_type": "code",
      "source": [
        "# Add the dense layer and dropout layer\n",
        "model.add(tf.keras.layers.Dense(80, activation = \"relu\"))\n",
        "model.add(tf.keras.layers.Dropout(0.5))\n",
        "# Add the dense layer and dropout layer\n",
        "model.add(tf.keras.layers.Dense(80, activation = \"relu\"))\n",
        "model.add(tf.keras.layers.Dropout(0.5))\n",
        "# Add the dense layer and dropout layer\n",
        "model.add(tf.keras.layers.Dense(80, activation = \"relu\"))\n",
        "model.add(tf.keras.layers.Dropout(0.5))\n",
        "\n",
        "# Add the output layer\n",
        "model.add(tf.keras.layers.Dense(10,activation=\"softmax\"))\n",
        "    \n",
        "# Compile the model\n",
        "model.compile(optimizer=\"adam\", loss=\"sparse_categorical_crossentropy\", metrics=[\"accuracy\"])"
      ],
      "metadata": {
        "id": "SgbvU_VhL0lx"
      },
      "execution_count": 9,
      "outputs": []
    },
    {
      "cell_type": "code",
      "source": [
        "# Train the model for 16 epochs with batch size of 150\n",
        "results = model.fit(X_train, y_train, batch_size = 120, epochs=16, validation_data=(X_val, y_val))      "
      ],
      "metadata": {
        "id": "mq2dTLjNL2lW",
        "colab": {
          "base_uri": "https://localhost:8080/"
        },
        "outputId": "8c3dc610-e3d1-49f9-d01a-051df40162df"
      },
      "execution_count": 10,
      "outputs": [
        {
          "output_type": "stream",
          "name": "stdout",
          "text": [
            "Epoch 1/16\n",
            "59/59 [==============================] - 28s 465ms/step - loss: 2.2110 - accuracy: 0.1508 - val_loss: 2.0817 - val_accuracy: 0.1766\n",
            "Epoch 2/16\n",
            "59/59 [==============================] - 27s 461ms/step - loss: 2.0441 - accuracy: 0.2148 - val_loss: 1.8018 - val_accuracy: 0.3716\n",
            "Epoch 3/16\n",
            "59/59 [==============================] - 27s 461ms/step - loss: 1.8379 - accuracy: 0.3004 - val_loss: 1.5699 - val_accuracy: 0.4450\n",
            "Epoch 4/16\n",
            "59/59 [==============================] - 27s 461ms/step - loss: 1.6847 - accuracy: 0.3796 - val_loss: 1.4303 - val_accuracy: 0.4817\n",
            "Epoch 5/16\n",
            "59/59 [==============================] - 27s 462ms/step - loss: 1.5474 - accuracy: 0.4297 - val_loss: 1.2904 - val_accuracy: 0.5149\n",
            "Epoch 6/16\n",
            "59/59 [==============================] - 27s 462ms/step - loss: 1.4113 - accuracy: 0.4938 - val_loss: 1.1133 - val_accuracy: 0.6560\n",
            "Epoch 7/16\n",
            "59/59 [==============================] - 27s 460ms/step - loss: 1.2984 - accuracy: 0.5405 - val_loss: 1.0291 - val_accuracy: 0.6927\n",
            "Epoch 8/16\n",
            "59/59 [==============================] - 27s 461ms/step - loss: 1.2098 - accuracy: 0.5783 - val_loss: 0.9629 - val_accuracy: 0.7110\n",
            "Epoch 9/16\n",
            "59/59 [==============================] - 27s 461ms/step - loss: 1.0933 - accuracy: 0.6300 - val_loss: 0.8351 - val_accuracy: 0.7672\n",
            "Epoch 10/16\n",
            "59/59 [==============================] - 27s 460ms/step - loss: 1.0478 - accuracy: 0.6578 - val_loss: 0.8091 - val_accuracy: 0.7626\n",
            "Epoch 11/16\n",
            "59/59 [==============================] - 27s 459ms/step - loss: 0.9781 - accuracy: 0.6735 - val_loss: 0.7394 - val_accuracy: 0.7901\n",
            "Epoch 12/16\n",
            "59/59 [==============================] - 27s 464ms/step - loss: 0.8759 - accuracy: 0.7102 - val_loss: 0.6671 - val_accuracy: 0.8005\n",
            "Epoch 13/16\n",
            "59/59 [==============================] - 32s 547ms/step - loss: 0.8419 - accuracy: 0.7251 - val_loss: 0.6561 - val_accuracy: 0.8050\n",
            "Epoch 14/16\n",
            "59/59 [==============================] - 27s 461ms/step - loss: 0.8210 - accuracy: 0.7292 - val_loss: 0.6278 - val_accuracy: 0.8200\n",
            "Epoch 15/16\n",
            "59/59 [==============================] - 27s 461ms/step - loss: 0.7673 - accuracy: 0.7470 - val_loss: 0.5949 - val_accuracy: 0.8234\n",
            "Epoch 16/16\n",
            "59/59 [==============================] - 27s 465ms/step - loss: 0.6987 - accuracy: 0.7722 - val_loss: 0.5874 - val_accuracy: 0.8314\n"
          ]
        }
      ]
    },
    {
      "cell_type": "code",
      "source": [
        "# Plot the the training loss\n",
        "plt.plot(results.history[\"loss\"], label = \"loss\")\n",
        "# Plot the the validation loss\n",
        "plt.plot(results.history[\"val_loss\"], label = \"val_loss\")\n",
        "# Name the x and y axises\n",
        "plt.ylabel(\"Loss\")\n",
        "plt.xlabel(\"Epoch\")\n",
        "# Put legend table\n",
        "plt.legend(\"Loss\")\n",
        "# Show the plot\n",
        "plt.show()\n"
      ],
      "metadata": {
        "id": "ECwmV24dL37O",
        "colab": {
          "base_uri": "https://localhost:8080/",
          "height": 279
        },
        "outputId": "15da1536-7957-4871-de2e-94d31e8469ea"
      },
      "execution_count": 11,
      "outputs": [
        {
          "output_type": "display_data",
          "data": {
            "text/plain": [
              "<Figure size 432x288 with 1 Axes>"
            ],
            "image/png": "[encoded data removed]"
          },
          "metadata": {
            "needs_background": "light"
          }
        }
      ]
    },
    {
      "cell_type": "code",
      "source": [
        "# Plot the the training accuracy\n",
        "plt.plot(results.history[\"accuracy\"], label = \"accuracy\")\n",
        "\n",
        "# Plot the the validation accuracy\n",
        "plt.plot(results.history[\"val_accuracy\"], label = \"val_accuracy\")\n",
        "\n",
        "# Name the x and y axises\n",
        "plt.ylabel(\"Loss\")\n",
        "plt.xlabel(\"Epoch\")\n",
        "\n",
        "# Put legend table\n",
        "plt.legend(\"Loss\")\n",
        "\n",
        "# Show the plot\n",
        "plt.show()"
      ],
      "metadata": {
        "id": "VwolyJBVL5pF",
        "colab": {
          "base_uri": "https://localhost:8080/",
          "height": 279
        },
        "outputId": "726ecb5d-efa7-4895-e0ed-30673721de95"
      },
      "execution_count": 12,
      "outputs": [
        {
          "output_type": "display_data",
          "data": {
            "text/plain": [
              "<Figure size 432x288 with 1 Axes>"
            ],
            "image/png": "[encoded data removed]"
          },
          "metadata": {
            "needs_background": "light"
          }
        }
      ]
    },
    {
      "cell_type": "code",
      "source": [
        "# Evaluate the performance\n",
        "model.evaluate(X_test, y_test)"
      ],
      "metadata": {
        "id": "Bg-6c0ptL7JD",
        "colab": {
          "base_uri": "https://localhost:8080/"
        },
        "outputId": "70c1fbd3-5294-4f08-9931-f720f1658248"
      },
      "execution_count": 13,
      "outputs": [
        {
          "output_type": "stream",
          "name": "stdout",
          "text": [
            "28/28 [==============================] - 1s 32ms/step - loss: 0.5446 - accuracy: 0.8339\n"
          ]
        },
        {
          "output_type": "execute_result",
          "data": {
            "text/plain": [
              "[0.5446127653121948, 0.8339060544967651]"
            ]
          },
          "metadata": {},
          "execution_count": 13
        }
      ]
    },
    {
      "cell_type": "code",
      "source": [
        "# Make prediction on the reshaped sample\n",
        "prediction_result = model.predict(X_test[777].reshape(1,40,40,3))\n",
        "\n",
        "# Print the prediction result\n",
        "prediction_result"
      ],
      "metadata": {
        "id": "Xath89ttL9R2",
        "colab": {
          "base_uri": "https://localhost:8080/"
        },
        "outputId": "0e886802-0cee-45ab-a505-5314d7503dd3"
      },
      "execution_count": 14,
      "outputs": [
        {
          "output_type": "execute_result",
          "data": {
            "text/plain": [
              "array([[1.0665988e-03, 1.1370297e-02, 3.6868983e-04, 6.0843313e-03,\n",
              "        9.0973520e-01, 1.4790185e-03, 3.1118903e-05, 6.8907879e-02,\n",
              "        4.1009256e-04, 5.4677681e-04]], dtype=float32)"
            ]
          },
          "metadata": {},
          "execution_count": 14
        }
      ]
    },
    {
      "cell_type": "code",
      "source": [
        "# Find the predicted class\n",
        "predicted_class = prediction_result.argmax()\n",
        "# Find the prediction probability\n",
        "predicted_probability = prediction_result.max()"
      ],
      "metadata": {
        "id": "moIFi7nSL-ln"
      },
      "execution_count": 15,
      "outputs": []
    },
    {
      "cell_type": "code",
      "source": [
        "# Print the results\n",
        "print(f\"This image belongs to class {predicted_class} with {predicted_probability} probability %\")"
      ],
      "metadata": {
        "id": "WabKTjEaL_9p",
        "colab": {
          "base_uri": "https://localhost:8080/"
        },
        "outputId": "97d3f984-dd92-4d94-edcb-f589360bf69d"
      },
      "execution_count": 16,
      "outputs": [
        {
          "output_type": "stream",
          "name": "stdout",
          "text": [
            "This image belongs to class 4 with 0.9097352027893066 probability %\n"
          ]
        }
      ]
    }
  ]
}