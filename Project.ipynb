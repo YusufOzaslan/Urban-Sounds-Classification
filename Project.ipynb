{
  "cells": [
    {
      "cell_type": "code",
      "execution_count": 1,
      "metadata": {
        "id": "QLKb04ZlssVr"
      },
      "outputs": [],
      "source": [
        "# Import TensorFlow\n",
        "import tensorflow as tf\n",
        "\n",
        "# Import Numpy, Pandas and Matplotlib\n",
        "import matplotlib.pyplot as plt\n",
        "import pandas as pd\n",
        "import numpy as np\n",
        "\n",
        "# Import openCv and os\n",
        "import cv2\n",
        "import os"
      ]
    },
    {
      "cell_type": "code",
      "execution_count": 2,
      "metadata": {
        "colab": {
          "base_uri": "https://localhost:8080/"
        },
        "id": "i4LspFA98Yd3",
        "outputId": "bd5d9f65-6c8d-4d3f-8efe-2ec439e86f1a"
      },
      "outputs": [
        {
          "output_type": "stream",
          "name": "stdout",
          "text": [
            "Drive already mounted at /content/drive; to attempt to forcibly remount, call drive.mount(\"/content/drive\", force_remount=True).\n"
          ]
        }
      ],
      "source": [
        "from google.colab import drive\n",
        "drive.mount('/content/drive')"
      ]
    },
    {
      "cell_type": "code",
      "execution_count": 3,
      "metadata": {
        "colab": {
          "base_uri": "https://localhost:8080/"
        },
        "id": "_LDWSR0CfkOa",
        "outputId": "b99bdffd-661e-4489-d8fc-3d00220664a1"
      },
      "outputs": [
        {
          "output_type": "stream",
          "name": "stdout",
          "text": [
            "0\n",
            "1\n",
            "2\n",
            "3\n",
            "4\n",
            "5\n",
            "6\n",
            "7\n",
            "8\n",
            "9\n"
          ]
        }
      ],
      "source": [
        "# Include data\n",
        "folders = \"/content/drive/MyDrive/data\"\n",
        "categories = [\"0\", \"1\", \"2\", \"3\", \"4\", \"5\", \"6\", \"7\", \"8\", \"9\"]\n",
        "data = []\n",
        "img_size = 120\n",
        "for category in categories:\n",
        "  dir = os.path.join(folders, category)\n",
        "  class_sound = int(category)\n",
        "  print(class_sound)\n",
        "  for img in os.listdir(dir):\n",
        "    img_matrix = cv2.imread(os.path.join(dir,img), cv2.IMREAD_COLOR)\n",
        "    new_img = cv2.resize(img_matrix, (img_size, img_size))  # resize to normalize data size\n",
        "    data.append([new_img, class_sound])"
      ]
    },
    {
      "cell_type": "code",
      "source": [
        "# shuffle the data.\n",
        "import random\n",
        "random.shuffle(data)\n",
        "for sample in data[:3]:\n",
        "    print(sample[1])   "
      ],
      "metadata": {
        "colab": {
          "base_uri": "https://localhost:8080/"
        },
        "id": "dUnNdMQCkBOU",
        "outputId": "4f4b4264-d74a-4611-c3cd-63acbac43bfa"
      },
      "execution_count": 4,
      "outputs": [
        {
          "output_type": "stream",
          "name": "stdout",
          "text": [
            "2\n",
            "6\n",
            "2\n"
          ]
        }
      ]
    },
    {
      "cell_type": "code",
      "execution_count": 5,
      "metadata": {
        "id": "GcNKqcrRLas1"
      },
      "outputs": [],
      "source": [
        "X = []\n",
        "y = []\n",
        "for features, label in data:\n",
        "    X.append(features)\n",
        "    y.append(label)"
      ]
    },
    {
      "cell_type": "code",
      "execution_count": 6,
      "metadata": {
        "id": "CLt9yCQtLqq1"
      },
      "outputs": [],
      "source": [
        "from sklearn.model_selection import train_test_split\n",
        "\n",
        "X = np.array(X)\n",
        "y = np.array(y)\n",
        "\n",
        "# First, create X_train, y_train and X_temporary and y_temporary datasets from X and y.\n",
        "X_train, X_temporary, y_train, y_temporary = train_test_split(X, y, train_size=0.8)\n",
        "\n",
        "# Using the X_temporary and y_temporary dataset we just created create validaiton and test datasets.\n",
        "X_val, X_test, y_val, y_test = train_test_split(X_temporary, y_temporary, train_size=0.5)"
      ]
    },
    {
      "cell_type": "code",
      "execution_count": 7,
      "metadata": {
        "id": "6CJGsVliLq1v"
      },
      "outputs": [],
      "source": [
        "# Divide each dataset by 255\n",
        "X_train = X_train/255\n",
        "X_val = X_val/255\n",
        "X_test = X_test/255"
      ]
    },
    {
      "cell_type": "code",
      "execution_count": 8,
      "metadata": {
        "id": "6BFl3YUhH6Bl"
      },
      "outputs": [],
      "source": [
        "# Create a model object\n",
        "model = tf.keras.Sequential()   "
      ]
    },
    {
      "cell_type": "code",
      "source": [
        "# Add a convolution and max pooling layer\n",
        "model.add(tf.keras.layers.Conv2D(120, kernel_size=(3,3), strides=(1,1), padding=\"same\", activation=\"relu\", input_shape=(120, 120, 3)))\n",
        "model.add(tf.keras.layers.MaxPooling2D((2,2)))"
      ],
      "metadata": {
        "id": "7u6AhF6Sps2H"
      },
      "execution_count": 9,
      "outputs": []
    },
    {
      "cell_type": "code",
      "source": [
        "# Add more convolution and max pooling layers\n",
        "model.add(tf.keras.layers.Conv2D(240, kernel_size=(3,3), strides=(1,1), padding=\"same\", activation=\"relu\", input_shape=(120, 120, 3)))\n",
        "model.add(tf.keras.layers.MaxPooling2D((2,2)))\n",
        "model.add(tf.keras.layers.Conv2D(240, kernel_size=(3,3), strides=(1,1), padding=\"same\", activation=\"relu\", input_shape=(120, 120, 3)))  \n",
        " \n"
      ],
      "metadata": {
        "id": "45OW5L9Npubq"
      },
      "execution_count": 10,
      "outputs": []
    },
    {
      "cell_type": "code",
      "source": [
        "# Flatten the convolution layer\n",
        "model.add(tf.keras.layers.Flatten()) "
      ],
      "metadata": {
        "id": "daKTbi58pwjb"
      },
      "execution_count": 11,
      "outputs": []
    },
    {
      "cell_type": "code",
      "source": [
        "# Add the dense layer and dropout layer\n",
        "model.add(tf.keras.layers.Dense(240, activation = \"relu\"))\n",
        "model.add(tf.keras.layers.Dropout(0.5))\n",
        "# Add the dense layer and dropout layer\n",
        "model.add(tf.keras.layers.Dense(240, activation = \"relu\"))\n",
        "model.add(tf.keras.layers.Dropout(0.5))\n",
        "# Add the dense layer and dropout layer\n",
        "model.add(tf.keras.layers.Dense(240, activation = \"relu\"))\n",
        "model.add(tf.keras.layers.Dropout(0.5))\n",
        "\n",
        "# Add the output layer\n",
        "model.add(tf.keras.layers.Dense(10,activation=\"softmax\"))\n",
        "    \n",
        "# Compile the model\n",
        "model.compile(optimizer=\"adam\", loss=\"sparse_categorical_crossentropy\", metrics=[\"accuracy\"])"
      ],
      "metadata": {
        "id": "Fw6DT5kZpx8w"
      },
      "execution_count": 12,
      "outputs": []
    },
    {
      "cell_type": "code",
      "source": [
        "# Train the model for 16 epochs with batch size of 160\n",
        "results = model.fit(X_train, y_train, batch_size = 160, epochs=16, validation_data=(X_val, y_val))      \n",
        "        "
      ],
      "metadata": {
        "colab": {
          "base_uri": "https://localhost:8080/"
        },
        "id": "-2vdroWWp0kt",
        "outputId": "615326dc-2b37-4d5a-e084-8ca52de78324"
      },
      "execution_count": 13,
      "outputs": [
        {
          "output_type": "stream",
          "name": "stdout",
          "text": [
            "Epoch 1/16\n",
            "44/44 [==============================] - 26s 406ms/step - loss: 2.1816 - accuracy: 0.2120 - val_loss: 1.7041 - val_accuracy: 0.3666\n",
            "Epoch 2/16\n",
            "44/44 [==============================] - 14s 319ms/step - loss: 1.6608 - accuracy: 0.3853 - val_loss: 1.2789 - val_accuracy: 0.6163\n",
            "Epoch 3/16\n",
            "44/44 [==============================] - 14s 321ms/step - loss: 1.2866 - accuracy: 0.5588 - val_loss: 0.9691 - val_accuracy: 0.6804\n",
            "Epoch 4/16\n",
            "44/44 [==============================] - 14s 323ms/step - loss: 1.0204 - accuracy: 0.6553 - val_loss: 0.8190 - val_accuracy: 0.7434\n",
            "Epoch 5/16\n",
            "44/44 [==============================] - 14s 325ms/step - loss: 0.8105 - accuracy: 0.7297 - val_loss: 0.7177 - val_accuracy: 0.7698\n",
            "Epoch 6/16\n",
            "44/44 [==============================] - 14s 326ms/step - loss: 0.6938 - accuracy: 0.7761 - val_loss: 0.6830 - val_accuracy: 0.7984\n",
            "Epoch 7/16\n",
            "44/44 [==============================] - 14s 327ms/step - loss: 0.5557 - accuracy: 0.8218 - val_loss: 0.5752 - val_accuracy: 0.8373\n",
            "Epoch 8/16\n",
            "44/44 [==============================] - 14s 329ms/step - loss: 0.4312 - accuracy: 0.8570 - val_loss: 0.5759 - val_accuracy: 0.8270\n",
            "Epoch 9/16\n",
            "44/44 [==============================] - 15s 332ms/step - loss: 0.3762 - accuracy: 0.8773 - val_loss: 0.6220 - val_accuracy: 0.8293\n",
            "Epoch 10/16\n",
            "44/44 [==============================] - 15s 334ms/step - loss: 0.3301 - accuracy: 0.8965 - val_loss: 0.5153 - val_accuracy: 0.8557\n",
            "Epoch 11/16\n",
            "44/44 [==============================] - 15s 335ms/step - loss: 0.2918 - accuracy: 0.9058 - val_loss: 0.5542 - val_accuracy: 0.8557\n",
            "Epoch 12/16\n",
            "44/44 [==============================] - 15s 337ms/step - loss: 0.2282 - accuracy: 0.9286 - val_loss: 0.5694 - val_accuracy: 0.8603\n",
            "Epoch 13/16\n",
            "44/44 [==============================] - 15s 338ms/step - loss: 0.2038 - accuracy: 0.9343 - val_loss: 0.5186 - val_accuracy: 0.8717\n",
            "Epoch 14/16\n",
            "44/44 [==============================] - 15s 337ms/step - loss: 0.1874 - accuracy: 0.9410 - val_loss: 0.4912 - val_accuracy: 0.8706\n",
            "Epoch 15/16\n",
            "44/44 [==============================] - 15s 337ms/step - loss: 0.1750 - accuracy: 0.9470 - val_loss: 0.4954 - val_accuracy: 0.8671\n",
            "Epoch 16/16\n",
            "44/44 [==============================] - 15s 336ms/step - loss: 0.1488 - accuracy: 0.9535 - val_loss: 0.6066 - val_accuracy: 0.8614\n"
          ]
        }
      ]
    },
    {
      "cell_type": "code",
      "source": [
        "# Plot the the training loss\n",
        "plt.plot(results.history[\"loss\"], label = \"loss\")\n",
        "# Plot the the validation loss\n",
        "plt.plot(results.history[\"val_loss\"], label = \"val_loss\")\n",
        "# Name the x and y axises\n",
        "plt.ylabel(\"Loss\")\n",
        "plt.xlabel(\"Epoch\")\n",
        "# Put legend table\n",
        "plt.legend(\"Loss\")\n",
        "# Show the plot\n",
        "plt.show()\n"
      ],
      "metadata": {
        "colab": {
          "base_uri": "https://localhost:8080/",
          "height": 280
        },
        "id": "FiFTIHEOUq_c",
        "outputId": "f03cd0e0-f775-4337-f8b6-501d2bc25358"
      },
      "execution_count": 14,
      "outputs": [
        {
          "output_type": "display_data",
          "data": {
            "text/plain": [
              "<Figure size 432x288 with 1 Axes>"
            ],
            "image/png": "[encoded data removed]"
          },
          "metadata": {
            "needs_background": "light"
          }
        }
      ]
    },
    {
      "cell_type": "code",
      "source": [
        "# Plot the the training accuracy\n",
        "plt.plot(results.history[\"accuracy\"], label = \"accuracy\")\n",
        "\n",
        "# Plot the the validation accuracy\n",
        "plt.plot(results.history[\"val_accuracy\"], label = \"val_accuracy\")\n",
        "\n",
        "# Name the x and y axises\n",
        "plt.ylabel(\"Loss\")\n",
        "plt.xlabel(\"Epoch\")\n",
        "\n",
        "# Put legend table\n",
        "plt.legend(\"Loss\")\n",
        "\n",
        "# Show the plot\n",
        "plt.show()\n"
      ],
      "metadata": {
        "colab": {
          "base_uri": "https://localhost:8080/",
          "height": 279
        },
        "id": "23_EOozOVAL0",
        "outputId": "04277bcb-16c6-4264-a0ab-fdcbe3d20535"
      },
      "execution_count": 15,
      "outputs": [
        {
          "output_type": "display_data",
          "data": {
            "text/plain": [
              "<Figure size 432x288 with 1 Axes>"
            ],
            "image/png": "[encoded data removed]"
          },
          "metadata": {
            "needs_background": "light"
          }
        }
      ]
    },
    {
      "cell_type": "code",
      "source": [
        "# Evaluate the performance\n",
        "model.evaluate(X_test, y_test)"
      ],
      "metadata": {
        "colab": {
          "base_uri": "https://localhost:8080/"
        },
        "id": "3c6ITdzwVLaP",
        "outputId": "08d2368b-74f4-4fda-e022-9d632cfdcc5a"
      },
      "execution_count": 16,
      "outputs": [
        {
          "output_type": "stream",
          "name": "stdout",
          "text": [
            "28/28 [==============================] - 1s 35ms/step - loss: 0.6064 - accuracy: 0.8730\n"
          ]
        },
        {
          "output_type": "execute_result",
          "data": {
            "text/plain": [
              "[0.6064265966415405, 0.8729977011680603]"
            ]
          },
          "metadata": {},
          "execution_count": 16
        }
      ]
    },
    {
      "cell_type": "code",
      "source": [
        "# Make prediction on the reshaped sample\n",
        "prediction_result = model.predict(X_test[777].reshape(1,120,120,3))\n",
        "\n",
        "# Print the prediction result\n",
        "prediction_result"
      ],
      "metadata": {
        "colab": {
          "base_uri": "https://localhost:8080/"
        },
        "id": "9ddWryHjVOzP",
        "outputId": "03fcc8ae-0352-413f-846e-30087fc7df4f"
      },
      "execution_count": 18,
      "outputs": [
        {
          "output_type": "execute_result",
          "data": {
            "text/plain": [
              "array([[3.7291145e-13, 2.4900247e-11, 1.4858629e-12, 2.5588642e-08,\n",
              "        4.9573567e-10, 1.8085002e-13, 1.0000000e+00, 2.1982219e-12,\n",
              "        8.8445934e-14, 3.0606904e-12]], dtype=float32)"
            ]
          },
          "metadata": {},
          "execution_count": 18
        }
      ]
    },
    {
      "cell_type": "code",
      "source": [
        "# Find the predicted class\n",
        "predicted_class = prediction_result.argmax()\n",
        "# Find the prediction probability\n",
        "predicted_probability = prediction_result.max()"
      ],
      "metadata": {
        "id": "lIQouozgVkE_"
      },
      "execution_count": 19,
      "outputs": []
    },
    {
      "cell_type": "code",
      "source": [
        "# Print the results\n",
        "print(f\"This image belongs to class {predicted_class} with {predicted_probability} probability %\")"
      ],
      "metadata": {
        "colab": {
          "base_uri": "https://localhost:8080/"
        },
        "id": "fUX-4lR4VeMO",
        "outputId": "83e482c5-1b29-4f2d-87ad-1152c240b109"
      },
      "execution_count": 20,
      "outputs": [
        {
          "output_type": "stream",
          "name": "stdout",
          "text": [
            "This image belongs to class 6 with 1.0 probability %\n"
          ]
        }
      ]
    }
  ],
  "metadata": {
    "accelerator": "GPU",
    "colab": {
      "collapsed_sections": [],
      "provenance": [],
      "toc_visible": true
    },
    "kernelspec": {
      "display_name": "Python 3 (ipykernel)",
      "language": "python",
      "name": "python3"
    },
    "language_info": {
      "codemirror_mode": {
        "name": "ipython",
        "version": 3
      },
      "file_extension": ".py",
      "mimetype": "text/x-python",
      "name": "python",
      "nbconvert_exporter": "python",
      "pygments_lexer": "ipython3",
      "version": "3.9.12"
    }
  },
  "nbformat": 4,
  "nbformat_minor": 0
}